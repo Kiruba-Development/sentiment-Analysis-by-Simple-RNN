{
 "cells": [
  {
   "cell_type": "code",
   "execution_count": 2,
   "metadata": {},
   "outputs": [
    {
     "name": "stdout",
     "output_type": "stream",
     "text": [
      "Hello world\n"
     ]
    }
   ],
   "source": [
    "print(\"Hello world\")"
   ]
  },
  {
   "cell_type": "code",
   "execution_count": 3,
   "metadata": {},
   "outputs": [],
   "source": [
    "from tensorflow.keras.preprocessing.text import one_hot"
   ]
  },
  {
   "cell_type": "code",
   "execution_count": 5,
   "metadata": {},
   "outputs": [],
   "source": [
    "## input data\n",
    "sent = [\n",
    "    'the glass of milk',\n",
    "    'the glass of juice',\n",
    "    'the cup of tea',\n",
    "    'I am a good boy',\n",
    "    'I am a good developer',\n",
    "    'understanding the meaning of words',\n",
    "    'Your videos are good and helpful'\n",
    "]"
   ]
  },
  {
   "cell_type": "code",
   "execution_count": 6,
   "metadata": {},
   "outputs": [],
   "source": [
    "## define a voacbulary size\n",
    "voc_size = 10000"
   ]
  },
  {
   "cell_type": "code",
   "execution_count": 9,
   "metadata": {},
   "outputs": [
    {
     "data": {
      "text/plain": [
       "[[6403, 4326, 4022, 7366],\n",
       " [6403, 4326, 4022, 2559],\n",
       " [6403, 6004, 4022, 1684],\n",
       " [737, 2046, 3437, 712, 6662],\n",
       " [737, 2046, 3437, 712, 6763],\n",
       " [5991, 6403, 897, 4022, 4771],\n",
       " [8727, 6524, 3443, 712, 984, 5746]]"
      ]
     },
     "execution_count": 9,
     "metadata": {},
     "output_type": "execute_result"
    }
   ],
   "source": [
    "## One hot representaion\n",
    "one_hot_rep = [one_hot(words, voc_size)for words in sent]\n",
    "one_hot_rep"
   ]
  },
  {
   "cell_type": "code",
   "execution_count": 12,
   "metadata": {},
   "outputs": [],
   "source": [
    "## Word Embedding representation\n",
    "\n",
    "from tensorflow.keras.layers import Embedding\n",
    "from tensorflow.keras.utils import pad_sequences\n",
    "from tensorflow.keras.models import Sequential\n",
    "import numpy as np"
   ]
  },
  {
   "cell_type": "code",
   "execution_count": 14,
   "metadata": {},
   "outputs": [
    {
     "data": {
      "text/plain": [
       "array([[   0,    0,    0,    0, 6403, 4326, 4022, 7366],\n",
       "       [   0,    0,    0,    0, 6403, 4326, 4022, 2559],\n",
       "       [   0,    0,    0,    0, 6403, 6004, 4022, 1684],\n",
       "       [   0,    0,    0,  737, 2046, 3437,  712, 6662],\n",
       "       [   0,    0,    0,  737, 2046, 3437,  712, 6763],\n",
       "       [   0,    0,    0, 5991, 6403,  897, 4022, 4771],\n",
       "       [   0,    0, 8727, 6524, 3443,  712,  984, 5746]])"
      ]
     },
     "execution_count": 14,
     "metadata": {},
     "output_type": "execute_result"
    }
   ],
   "source": [
    "## pad_sequence so, we need an fixed number for words for each sequence before sending this to an input layer\n",
    "## We have post and pre padding method to add a zero\n",
    "sent_length = 8\n",
    "embedding_docs = pad_sequences(one_hot_rep, padding='pre', maxlen=sent_length)\n",
    "embedding_docs\n"
   ]
  },
  {
   "cell_type": "code",
   "execution_count": 15,
   "metadata": {},
   "outputs": [],
   "source": [
    "## Feature represenation\n",
    "dim = 10"
   ]
  },
  {
   "cell_type": "code",
   "execution_count": 16,
   "metadata": {},
   "outputs": [
    {
     "name": "stdout",
     "output_type": "stream",
     "text": [
      "WARNING:tensorflow:From c:\\Users\\KIRUBAK\\Desktop\\Gen AI\\.venv\\lib\\site-packages\\keras\\src\\backend.py:873: The name tf.get_default_graph is deprecated. Please use tf.compat.v1.get_default_graph instead.\n",
      "\n",
      "WARNING:tensorflow:From c:\\Users\\KIRUBAK\\Desktop\\Gen AI\\.venv\\lib\\site-packages\\keras\\src\\optimizers\\__init__.py:309: The name tf.train.Optimizer is deprecated. Please use tf.compat.v1.train.Optimizer instead.\n",
      "\n"
     ]
    }
   ],
   "source": [
    "model = Sequential()\n",
    "model.add(Embedding(voc_size, dim, input_length = sent_length))\n",
    "model.compile('adam', 'mse')"
   ]
  },
  {
   "cell_type": "code",
   "execution_count": 17,
   "metadata": {},
   "outputs": [
    {
     "name": "stdout",
     "output_type": "stream",
     "text": [
      "Model: \"sequential\"\n",
      "_________________________________________________________________\n",
      " Layer (type)                Output Shape              Param #   \n",
      "=================================================================\n",
      " embedding (Embedding)       (None, 8, 10)             100000    \n",
      "                                                                 \n",
      "=================================================================\n",
      "Total params: 100000 (390.62 KB)\n",
      "Trainable params: 100000 (390.62 KB)\n",
      "Non-trainable params: 0 (0.00 Byte)\n",
      "_________________________________________________________________\n"
     ]
    }
   ],
   "source": [
    "model.summary()"
   ]
  },
  {
   "cell_type": "code",
   "execution_count": 20,
   "metadata": {},
   "outputs": [
    {
     "name": "stdout",
     "output_type": "stream",
     "text": [
      "1/1 [==============================] - 0s 50ms/step\n"
     ]
    },
    {
     "data": {
      "text/plain": [
       "array([[ 0.04414953, -0.04191793, -0.04616194,  0.01414564, -0.00491828,\n",
       "        -0.03952172, -0.01254622, -0.03431138,  0.0189029 , -0.0010149 ],\n",
       "       [ 0.04414953, -0.04191793, -0.04616194,  0.01414564, -0.00491828,\n",
       "        -0.03952172, -0.01254622, -0.03431138,  0.0189029 , -0.0010149 ],\n",
       "       [ 0.04414953, -0.04191793, -0.04616194,  0.01414564, -0.00491828,\n",
       "        -0.03952172, -0.01254622, -0.03431138,  0.0189029 , -0.0010149 ],\n",
       "       [ 0.04414953, -0.04191793, -0.04616194,  0.01414564, -0.00491828,\n",
       "        -0.03952172, -0.01254622, -0.03431138,  0.0189029 , -0.0010149 ],\n",
       "       [ 0.03281393, -0.00157003,  0.00271793,  0.00994669,  0.03924586,\n",
       "        -0.00297106, -0.00268276, -0.04641994,  0.04818613,  0.01145707],\n",
       "       [ 0.01322548, -0.03300071, -0.02394286, -0.04862316,  0.03699775,\n",
       "        -0.0346246 ,  0.0017788 ,  0.04485417,  0.00597543,  0.01307942],\n",
       "       [ 0.02051144,  0.01709953,  0.00073195,  0.04378809, -0.00022527,\n",
       "         0.0038892 , -0.03813083, -0.03064562, -0.00495965,  0.03368721],\n",
       "       [-0.0121856 , -0.01490402,  0.00645636, -0.03516048,  0.04100934,\n",
       "        -0.04387425,  0.00122514,  0.01507031, -0.01692349, -0.01866601]],\n",
       "      dtype=float32)"
      ]
     },
     "execution_count": 20,
     "metadata": {},
     "output_type": "execute_result"
    }
   ],
   "source": [
    "## Here we can see the Vectors for each word from the sentence\n",
    "model.predict(embedding_docs)[0]"
   ]
  },
  {
   "cell_type": "code",
   "execution_count": null,
   "metadata": {},
   "outputs": [],
   "source": []
  }
 ],
 "metadata": {
  "kernelspec": {
   "display_name": ".venv",
   "language": "python",
   "name": "python3"
  },
  "language_info": {
   "codemirror_mode": {
    "name": "ipython",
    "version": 3
   },
   "file_extension": ".py",
   "mimetype": "text/x-python",
   "name": "python",
   "nbconvert_exporter": "python",
   "pygments_lexer": "ipython3",
   "version": "3.10.7"
  }
 },
 "nbformat": 4,
 "nbformat_minor": 2
}
